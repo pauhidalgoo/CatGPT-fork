{
 "cells": [
  {
   "cell_type": "markdown",
   "metadata": {},
   "source": [
    "## TRAIN SPECIFIC TOKENIZER USING BYTE PAIR ENCODING"
   ]
  },
  {
   "cell_type": "code",
   "execution_count": null,
   "metadata": {},
   "outputs": [],
   "source": [
    "import os\n",
    "from tokenizers import ByteLevelBPETokenizer\n",
    "\n",
    "# Initialize the ByteLevelBPETokenizer\n",
    "tokenizer = ByteLevelBPETokenizer()\n",
    "\n",
    "# Train the tokenizer on the limited dataset\n",
    "tokenizer.train(files=['data/small_catalan_oscar.txt'], vocab_size=32768, min_frequency=2, special_tokens=[\n",
    "    \"<s>\",  # Start of sequence token\n",
    "    \"<pad>\",  # Padding token\n",
    "    \"</s>\",  # End of sequence token\n",
    "    \"<unk>\",  # Unknown token\n",
    "    \"<mask>\",  # Mask token for masked language modeling\n",
    "])\n",
    "\n",
    "# Save the trained tokenizer model\n",
    "tokenizer.save_model('tokenizer')\n",
    "\n",
    "print(\"Tokenizer successfully trained and saved.\")"
   ]
  },
  {
   "cell_type": "markdown",
   "metadata": {},
   "source": [
    "## Load the trained tokenizer"
   ]
  },
  {
   "cell_type": "code",
   "execution_count": 10,
   "metadata": {},
   "outputs": [
    {
     "name": "stdout",
     "output_type": "stream",
     "text": [
      "[6726, 373, 363, 6710, 264, 3361, 18]\n",
      "Aquesta és una frase de prova.\n",
      "[32, 6138, 64, 220, 20954, 555, 64, 1216, 589, 390, 899, 64, 13]\n",
      "Aquesta és una frase de prova.\n"
     ]
    }
   ],
   "source": [
    "from tokenizers import ByteLevelBPETokenizer\n",
    "\n",
    "# Load the tokenizer\n",
    "tokenizer = ByteLevelBPETokenizer(\n",
    "    'vocab.json',\n",
    "    'merges.txt'\n",
    ")   \n",
    "\n",
    "# Encode a sample text\n",
    "sample_text = \"Aquesta és una frase de prova.\"\n",
    "encoded = tokenizer.encode(sample_text)\n",
    "print(encoded.ids)\n",
    "print(tokenizer.decode(encoded.ids))\n",
    "\n",
    "# Encode the same text with GPT-2 tokenizer\n",
    "\n",
    "from transformers import GPT2Tokenizer\n",
    "\n",
    "# Load the GPT-2 tokenizer\n",
    "gpt2_tokenizer = GPT2Tokenizer.from_pretrained('gpt2')\n",
    "\n",
    "# Encode the sample text\n",
    "gpt2_encoded = gpt2_tokenizer.encode(sample_text)\n",
    "print(gpt2_encoded)\n",
    "print(gpt2_tokenizer.decode(gpt2_encoded))"
   ]
  },
  {
   "cell_type": "markdown",
   "metadata": {},
   "source": [
    "### Comparing the performance of trained tokenizer and GPT-2 tokenizer"
   ]
  },
  {
   "cell_type": "code",
   "execution_count": 20,
   "metadata": {},
   "outputs": [
    {
     "name": "stdout",
     "output_type": "stream",
     "text": [
      "Lenght of the sample text: 30\n",
      "Length of the encoded text with ByteLevelBPETokenizer: 7\n",
      "Length of the encoded text with GPT-2 tokenizer: 13\n"
     ]
    }
   ],
   "source": [
    "# Compare the two tokenizers\n",
    "print(f'Lenght of the sample text: {len(sample_text)}')\n",
    "print(f'Length of the encoded text with ByteLevelBPETokenizer: {len(encoded.ids)}')\n",
    "print(f'Length of the encoded text with GPT-2 tokenizer: {len(gpt2_encoded)}')"
   ]
  }
 ],
 "metadata": {
  "kernelspec": {
   "display_name": "Python 3",
   "language": "python",
   "name": "python3"
  },
  "language_info": {
   "codemirror_mode": {
    "name": "ipython",
    "version": 3
   },
   "file_extension": ".py",
   "mimetype": "text/x-python",
   "name": "python",
   "nbconvert_exporter": "python",
   "pygments_lexer": "ipython3",
   "version": "3.10.6"
  }
 },
 "nbformat": 4,
 "nbformat_minor": 2
}
