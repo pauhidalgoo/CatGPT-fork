{
 "cells": [
  {
   "cell_type": "markdown",
   "metadata": {},
   "source": [
    "## Creating the training corpus"
   ]
  },
  {
   "cell_type": "markdown",
   "metadata": {},
   "source": [
    "This document downloads the most popular catalan datasets from projecte-aina and creates a training corpus with them. The datasets are:\n",
    "- Oscar +5GB\n",
    "- Catalan_textual_corpus +10GB\n",
    "\n",
    "Although they are one of the best options for training and LLM it is still not enough filtered and preprocessed so the file best_catalan_dataset\n",
    "will try to create a better dataset for training. This is crucial for small LLM models as they need to be trained with a good dataset to perform well."
   ]
  },
  {
   "cell_type": "code",
   "execution_count": null,
   "metadata": {},
   "outputs": [],
   "source": [
    "from datasets import load_dataset\n",
    "\n",
    "# Load the dataset\n",
    "dataset = load_dataset('projecte-aina/catalan_general_crawling', trust_remote_code=True)\n",
    "\n",
    "# Extract the 'train' split and preprocess\n",
    "corpus_text = \" \".join(dataset['train']['text'])"
   ]
  },
  {
   "cell_type": "markdown",
   "metadata": {},
   "source": [
    "# Storing different data sizes from the full dataset"
   ]
  },
  {
   "cell_type": "code",
   "execution_count": null,
   "metadata": {},
   "outputs": [],
   "source": [
    "def limit_dataset_size(corpus_text, size_mb):\n",
    "    max_bytes = size_mb * 1024 * 1024  # Convert MB to bytes\n",
    "    encoded_text = corpus_text.encode('utf-8')\n",
    "    limited_text = encoded_text[:max_bytes].decode('utf-8', errors='ignore')\n",
    "    return limited_text"
   ]
  },
  {
   "cell_type": "code",
   "execution_count": null,
   "metadata": {},
   "outputs": [],
   "source": [
    "def saving_text_to_file(text, filename):\n",
    "    with open(f\"../data/{filename}.txt\", \"w\") as f:\n",
    "        f.write(text)\n",
    "\n",
    "\n",
    "# Limit the dataset size to X MB\n",
    "corpus_text = limit_dataset_size(corpus_text, 10)\n",
    "saving_text_to_file(corpus_text, \"tiny_corpus\")"
   ]
  },
  {
   "cell_type": "code",
   "execution_count": null,
   "metadata": {},
   "outputs": [],
   "source": [
    "# Define the function to save dataset texts to a .txt file\n",
    "def save_text_to_file(texts, file_path):\n",
    "    with open(file_path, \"w\") as f:\n",
    "        for line in texts:\n",
    "            f.write(line.replace(\"\\n\", \" \") + \"\\n\")  # Replace newlines within articles to maintain proper formatting"
   ]
  },
  {
   "cell_type": "code",
   "execution_count": null,
   "metadata": {},
   "outputs": [],
   "source": [
    "# Cargar el dataset original\n",
    "with open('../data/catalan_oscar.txt', 'r', encoding='utf-8') as f:\n",
    "    corpus_text = f.read()\n",
    "\n",
    "# Limitar el tamaño del dataset a 50 MB\n",
    "limited_text = limit_dataset_size(corpus_text, 50)\n",
    "saving_text_to_file(limited_text, \"small_catalan_oscar\")"
   ]
  },
  {
   "cell_type": "code",
   "execution_count": null,
   "metadata": {},
   "outputs": [],
   "source": [
    "# Load the OSCAR dataset for Catalan\n",
    "oscar_dataset = load_dataset(\"oscar\", \"unshuffled_deduplicated_ca\", split=\"train\")\n",
    "oscar_text = [example['text'] for example in oscar_dataset]\n",
    "save_text_to_file(oscar_text, \"catalan_oscar.txt\")"
   ]
  },
  {
   "cell_type": "code",
   "execution_count": null,
   "metadata": {},
   "outputs": [],
   "source": [
    "import requests\n",
    "import bz2\n",
    "import xml.etree.ElementTree as ET\n",
    "from datasets import load_dataset\n",
    "\n",
    "# Define the function to save dataset texts to a .txt file\n",
    "def save_text_to_file(texts, file_path):\n",
    "    with open(file_path, \"w\") as f:\n",
    "        for line in texts:\n",
    "            f.write(line.replace(\"\\n\", \" \") + \"\\n\")  # Replace newlines within articles to maintain proper formatting\n",
    "\n",
    "# Function to download and extract Wikipedia dump\n",
    "def download_wikipedia_dump(url, output_file):\n",
    "    response = requests.get(url)\n",
    "    with open(output_file, 'wb') as file:\n",
    "        file.write(response.content)\n",
    "    print(f\"Downloaded Wikipedia dump to {output_file}\")\n",
    "\n",
    "def parse_wikipedia_dump(dump_file):\n",
    "    with bz2.open(dump_file, 'rt') as f:\n",
    "        context = ET.iterparse(f, events=('end',))\n",
    "        for event, elem in context:\n",
    "            if elem.tag.endswith('text'):\n",
    "                yield elem.text\n",
    "            elem.clear()\n",
    "\n",
    "# Download Wikipedia dump\n",
    "wikipedia_dump_url = 'https://dumps.wikimedia.org/cawiki/latest/cawiki-latest-pages-articles.xml.bz2'\n",
    "wikipedia_dump_file = 'cawiki-latest-pages-articles.xml.bz2'\n",
    "download_wikipedia_dump(wikipedia_dump_url, wikipedia_dump_file)\n",
    "\n",
    "# Parse Wikipedia dump\n",
    "wikipedia_texts = list(parse_wikipedia_dump(wikipedia_dump_file))\n",
    "save_text_to_file(wikipedia_texts, \"catalan_wikipedia.txt\")"
   ]
  },
  {
   "cell_type": "markdown",
   "metadata": {},
   "source": [
    "### Function to delete new lines"
   ]
  },
  {
   "cell_type": "code",
   "execution_count": 2,
   "metadata": {},
   "outputs": [
    {
     "name": "stdout",
     "output_type": "stream",
     "text": [
      "Empty lines have been removed and the result has been saved in ../data/CatGPT_dataset.txt.\n"
     ]
    }
   ],
   "source": [
    "# Name of the original file and the output file\n",
    "input_filename = '../data/catalan_textual_corpus.txt'\n",
    "output_filename = '../data/CatGPT_dataset.txt'\n",
    "\n",
    "# Open the original file in read mode and the output file in write mode\n",
    "with open(input_filename, 'r') as infile, open(output_filename, 'w') as outfile:\n",
    "    for line in infile:\n",
    "        # Strip to remove leading and trailing whitespaces and newline characters\n",
    "        if line.strip():\n",
    "            outfile.write(line)\n",
    "\n",
    "print(f\"Empty lines have been removed and the result has been saved in {output_filename}.\")\n"
   ]
  }
 ],
 "metadata": {
  "kernelspec": {
   "display_name": "Python 3",
   "language": "python",
   "name": "python3"
  },
  "language_info": {
   "codemirror_mode": {
    "name": "ipython",
    "version": 3
   },
   "file_extension": ".py",
   "mimetype": "text/x-python",
   "name": "python",
   "nbconvert_exporter": "python",
   "pygments_lexer": "ipython3",
   "version": "3.10.6"
  }
 },
 "nbformat": 4,
 "nbformat_minor": 2
}
