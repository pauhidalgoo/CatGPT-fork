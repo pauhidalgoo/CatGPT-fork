{
 "cells": [
  {
   "cell_type": "markdown",
   "metadata": {},
   "source": [
    "## Creating the training corpus"
   ]
  },
  {
   "cell_type": "markdown",
   "metadata": {},
   "source": [
    "This document downloads the most popular catalan datasets from projecte-aina and creates a training corpus with them. The datasets are:\n",
    "- Oscar\n",
    "- Catalan Wikipedia\n",
    "\n",
    "Although they are one of the best options for training and LLM it is still not enough filtered and preprocessed so the file best_catalan_dataset\n",
    "will try to create a better dataset for training. This is crucial for small LLM models as they need to be trained with a good dataset to perform well."
   ]
  },
  {
   "cell_type": "code",
   "execution_count": 1,
   "metadata": {},
   "outputs": [],
   "source": [
    "from datasets import load_dataset\n",
    "\n",
    "# Load the dataset\n",
    "dataset = load_dataset('projecte-aina/catalan_general_crawling', trust_remote_code=True)\n",
    "\n",
    "# Extract the 'train' split and preprocess\n",
    "corpus_text = \" \".join(dataset['train']['text'])"
   ]
  },
  {
   "cell_type": "markdown",
   "metadata": {},
   "source": [
    "# Storing different data sizes from the full dataset"
   ]
  },
  {
   "cell_type": "code",
   "execution_count": 1,
   "metadata": {},
   "outputs": [],
   "source": [
    "def limit_dataset_size(corpus_text, size_mb):\n",
    "    max_bytes = size_mb * 1024 * 1024  # Convert MB to bytes\n",
    "    encoded_text = corpus_text.encode('utf-8')\n",
    "    limited_text = encoded_text[:max_bytes].decode('utf-8', errors='ignore')\n",
    "    return limited_text"
   ]
  },
  {
   "cell_type": "code",
   "execution_count": 2,
   "metadata": {},
   "outputs": [
    {
     "data": {
      "text/plain": [
       "'# Limit the dataset size to X MB\\ncorpus_text = limit_dataset_size(corpus_text, 10)\\nsaving_text_to_file(corpus_text, \"tiny_corpus\")'"
      ]
     },
     "execution_count": 2,
     "metadata": {},
     "output_type": "execute_result"
    }
   ],
   "source": [
    "def saving_text_to_file(text, filename):\n",
    "    with open(f\"../data/{filename}.txt\", \"w\") as f:\n",
    "        f.write(text)\n",
    "\n",
    "\n",
    "\"\"\"# Limit the dataset size to X MB\n",
    "corpus_text = limit_dataset_size(corpus_text, 10)\n",
    "saving_text_to_file(corpus_text, \"tiny_corpus\")\"\"\""
   ]
  },
  {
   "cell_type": "code",
   "execution_count": null,
   "metadata": {},
   "outputs": [],
   "source": [
    "# Define the function to save dataset texts to a .txt file\n",
    "def save_text_to_file(texts, file_path):\n",
    "    with open(file_path, \"w\") as f:\n",
    "        for line in texts:\n",
    "            f.write(line.replace(\"\\n\", \" \") + \"\\n\")  # Replace newlines within articles to maintain proper formatting"
   ]
  },
  {
   "cell_type": "code",
   "execution_count": 3,
   "metadata": {},
   "outputs": [],
   "source": [
    "# Cargar el dataset original\n",
    "with open('../data/catalan_oscar.txt', 'r', encoding='utf-8') as f:\n",
    "    corpus_text = f.read()\n",
    "\n",
    "# Limitar el tamaño del dataset a 50 MB\n",
    "limited_text = limit_dataset_size(corpus_text, 50)\n",
    "saving_text_to_file(limited_text, \"small_catalan_oscar\")"
   ]
  },
  {
   "cell_type": "code",
   "execution_count": 2,
   "metadata": {},
   "outputs": [
    {
     "name": "stderr",
     "output_type": "stream",
     "text": [
      "/Library/Frameworks/Python.framework/Versions/3.10/lib/python3.10/site-packages/datasets/load.py:1486: FutureWarning: The repository for oscar contains custom code which must be executed to correctly load the dataset. You can inspect the repository content at https://hf.co/datasets/oscar\n",
      "You can avoid this message in future by passing the argument `trust_remote_code=True`.\n",
      "Passing `trust_remote_code=True` will be mandatory to load this dataset from the next major release of `datasets`.\n",
      "  warnings.warn(\n"
     ]
    },
    {
     "data": {
      "application/vnd.jupyter.widget-view+json": {
       "model_id": "4fb493e9bcd441afb3add79321c19859",
       "version_major": 2,
       "version_minor": 0
      },
      "text/plain": [
       "Downloading builder script:   0%|          | 0.00/14.8k [00:00<?, ?B/s]"
      ]
     },
     "metadata": {},
     "output_type": "display_data"
    },
    {
     "data": {
      "application/vnd.jupyter.widget-view+json": {
       "model_id": "3047690ed419434abc86bdbde6258fe1",
       "version_major": 2,
       "version_minor": 0
      },
      "text/plain": [
       "Downloading readme:   0%|          | 0.00/303k [00:00<?, ?B/s]"
      ]
     },
     "metadata": {},
     "output_type": "display_data"
    },
    {
     "data": {
      "application/vnd.jupyter.widget-view+json": {
       "model_id": "9251fee41c444e69860ad17b95bb4d69",
       "version_major": 2,
       "version_minor": 0
      },
      "text/plain": [
       "Downloading data:   0%|          | 0.00/246 [00:00<?, ?B/s]"
      ]
     },
     "metadata": {},
     "output_type": "display_data"
    },
    {
     "data": {
      "application/vnd.jupyter.widget-view+json": {
       "model_id": "6d5be26ffd3a4652afc1b26204bbf80b",
       "version_major": 2,
       "version_minor": 0
      },
      "text/plain": [
       "Downloading data:   0%|          | 0.00/741M [00:00<?, ?B/s]"
      ]
     },
     "metadata": {},
     "output_type": "display_data"
    },
    {
     "data": {
      "application/vnd.jupyter.widget-view+json": {
       "model_id": "c4e5af5ebd044baa89264bb17a079dae",
       "version_major": 2,
       "version_minor": 0
      },
      "text/plain": [
       "Downloading data:   0%|          | 0.00/741M [00:00<?, ?B/s]"
      ]
     },
     "metadata": {},
     "output_type": "display_data"
    },
    {
     "data": {
      "application/vnd.jupyter.widget-view+json": {
       "model_id": "e909e1454af54dd68c36aa17b4e9f986",
       "version_major": 2,
       "version_minor": 0
      },
      "text/plain": [
       "Downloading data:   0%|          | 0.00/252M [00:00<?, ?B/s]"
      ]
     },
     "metadata": {},
     "output_type": "display_data"
    },
    {
     "data": {
      "application/vnd.jupyter.widget-view+json": {
       "model_id": "11e56ab813d44b14aef55bb9ecc201cc",
       "version_major": 2,
       "version_minor": 0
      },
      "text/plain": [
       "Generating train split:   0%|          | 0/2458067 [00:00<?, ? examples/s]"
      ]
     },
     "metadata": {},
     "output_type": "display_data"
    }
   ],
   "source": [
    "# Load the OSCAR dataset for Catalan\n",
    "oscar_dataset = load_dataset(\"oscar\", \"unshuffled_deduplicated_ca\", split=\"train\")\n",
    "oscar_text = [example['text'] for example in oscar_dataset]\n",
    "save_text_to_file(oscar_text, \"catalan_oscar.txt\")"
   ]
  },
  {
   "cell_type": "code",
   "execution_count": 5,
   "metadata": {},
   "outputs": [
    {
     "name": "stdout",
     "output_type": "stream",
     "text": [
      "Downloaded Wikipedia dump to cawiki-latest-pages-articles.xml.bz2\n"
     ]
    },
    {
     "ename": "AttributeError",
     "evalue": "'NoneType' object has no attribute 'replace'",
     "output_type": "error",
     "traceback": [
      "\u001b[0;31m---------------------------------------------------------------------------\u001b[0m",
      "\u001b[0;31mAttributeError\u001b[0m                            Traceback (most recent call last)",
      "Cell \u001b[0;32mIn[5], line 34\u001b[0m\n\u001b[1;32m     32\u001b[0m \u001b[38;5;66;03m# Parse Wikipedia dump\u001b[39;00m\n\u001b[1;32m     33\u001b[0m wikipedia_texts \u001b[38;5;241m=\u001b[39m \u001b[38;5;28mlist\u001b[39m(parse_wikipedia_dump(wikipedia_dump_file))\n\u001b[0;32m---> 34\u001b[0m \u001b[43msave_text_to_file\u001b[49m\u001b[43m(\u001b[49m\u001b[43mwikipedia_texts\u001b[49m\u001b[43m,\u001b[49m\u001b[43m \u001b[49m\u001b[38;5;124;43m\"\u001b[39;49m\u001b[38;5;124;43mcatalan_wikipedia.txt\u001b[39;49m\u001b[38;5;124;43m\"\u001b[39;49m\u001b[43m)\u001b[49m\n",
      "Cell \u001b[0;32mIn[5], line 10\u001b[0m, in \u001b[0;36msave_text_to_file\u001b[0;34m(texts, file_path)\u001b[0m\n\u001b[1;32m      8\u001b[0m \u001b[38;5;28;01mwith\u001b[39;00m \u001b[38;5;28mopen\u001b[39m(file_path, \u001b[38;5;124m\"\u001b[39m\u001b[38;5;124mw\u001b[39m\u001b[38;5;124m\"\u001b[39m) \u001b[38;5;28;01mas\u001b[39;00m f:\n\u001b[1;32m      9\u001b[0m     \u001b[38;5;28;01mfor\u001b[39;00m line \u001b[38;5;129;01min\u001b[39;00m texts:\n\u001b[0;32m---> 10\u001b[0m         f\u001b[38;5;241m.\u001b[39mwrite(\u001b[43mline\u001b[49m\u001b[38;5;241;43m.\u001b[39;49m\u001b[43mreplace\u001b[49m(\u001b[38;5;124m\"\u001b[39m\u001b[38;5;130;01m\\n\u001b[39;00m\u001b[38;5;124m\"\u001b[39m, \u001b[38;5;124m\"\u001b[39m\u001b[38;5;124m \u001b[39m\u001b[38;5;124m\"\u001b[39m) \u001b[38;5;241m+\u001b[39m \u001b[38;5;124m\"\u001b[39m\u001b[38;5;130;01m\\n\u001b[39;00m\u001b[38;5;124m\"\u001b[39m)\n",
      "\u001b[0;31mAttributeError\u001b[0m: 'NoneType' object has no attribute 'replace'"
     ]
    }
   ],
   "source": [
    "import requests\n",
    "import bz2\n",
    "import xml.etree.ElementTree as ET\n",
    "from datasets import load_dataset\n",
    "\n",
    "# Define the function to save dataset texts to a .txt file\n",
    "def save_text_to_file(texts, file_path):\n",
    "    with open(file_path, \"w\") as f:\n",
    "        for line in texts:\n",
    "            f.write(line.replace(\"\\n\", \" \") + \"\\n\")  # Replace newlines within articles to maintain proper formatting\n",
    "\n",
    "# Function to download and extract Wikipedia dump\n",
    "def download_wikipedia_dump(url, output_file):\n",
    "    response = requests.get(url)\n",
    "    with open(output_file, 'wb') as file:\n",
    "        file.write(response.content)\n",
    "    print(f\"Downloaded Wikipedia dump to {output_file}\")\n",
    "\n",
    "def parse_wikipedia_dump(dump_file):\n",
    "    with bz2.open(dump_file, 'rt') as f:\n",
    "        context = ET.iterparse(f, events=('end',))\n",
    "        for event, elem in context:\n",
    "            if elem.tag.endswith('text'):\n",
    "                yield elem.text\n",
    "            elem.clear()\n",
    "\n",
    "# Download Wikipedia dump\n",
    "wikipedia_dump_url = 'https://dumps.wikimedia.org/cawiki/latest/cawiki-latest-pages-articles.xml.bz2'\n",
    "wikipedia_dump_file = 'cawiki-latest-pages-articles.xml.bz2'\n",
    "download_wikipedia_dump(wikipedia_dump_url, wikipedia_dump_file)\n",
    "\n",
    "# Parse Wikipedia dump\n",
    "wikipedia_texts = list(parse_wikipedia_dump(wikipedia_dump_file))\n",
    "save_text_to_file(wikipedia_texts, \"catalan_wikipedia.txt\")"
   ]
  }
 ],
 "metadata": {
  "kernelspec": {
   "display_name": "Python 3",
   "language": "python",
   "name": "python3"
  },
  "language_info": {
   "codemirror_mode": {
    "name": "ipython",
    "version": 3
   },
   "file_extension": ".py",
   "mimetype": "text/x-python",
   "name": "python",
   "nbconvert_exporter": "python",
   "pygments_lexer": "ipython3",
   "version": "3.10.6"
  }
 },
 "nbformat": 4,
 "nbformat_minor": 2
}
