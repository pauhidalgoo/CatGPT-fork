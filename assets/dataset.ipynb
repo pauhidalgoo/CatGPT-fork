{
 "cells": [
  {
   "cell_type": "markdown",
   "metadata": {},
   "source": [
    "## Creating the training corpus"
   ]
  },
  {
   "cell_type": "code",
   "execution_count": 1,
   "metadata": {},
   "outputs": [],
   "source": [
    "from datasets import load_dataset\n",
    "\n",
    "# Load the dataset\n",
    "dataset = load_dataset('projecte-aina/catalan_general_crawling', trust_remote_code=True)\n",
    "\n",
    "# Extract the 'train' split and preprocess\n",
    "corpus_text = \" \".join(dataset['train']['text'])"
   ]
  },
  {
   "cell_type": "markdown",
   "metadata": {},
   "source": [
    "# Storing different data sizes from the full dataset"
   ]
  },
  {
   "cell_type": "code",
   "execution_count": 2,
   "metadata": {},
   "outputs": [],
   "source": [
    "def limit_dataset_size(corpus_text, size_mb):\n",
    "    max_bytes = size_mb * 1024 * 1024  # Convert MB to bytes\n",
    "    encoded_text = corpus_text.encode('utf-8')\n",
    "    limited_text = encoded_text[:max_bytes].decode('utf-8', errors='ignore')\n",
    "    return limited_text"
   ]
  },
  {
   "cell_type": "code",
   "execution_count": 4,
   "metadata": {},
   "outputs": [],
   "source": [
    "def saving_text_to_file(text, filename):\n",
    "    with open(f\"../data/{filename}.txt\", \"w\") as f:\n",
    "        f.write(text)\n",
    "\n",
    "\n",
    "# Limit the dataset size to 50 MB\n",
    "corpus_text = limit_dataset_size(corpus_text, 50)\n",
    "saving_text_to_file(corpus_text, \"small_corpus\")"
   ]
  }
 ],
 "metadata": {
  "kernelspec": {
   "display_name": "Python 3",
   "language": "python",
   "name": "python3"
  },
  "language_info": {
   "codemirror_mode": {
    "name": "ipython",
    "version": 3
   },
   "file_extension": ".py",
   "mimetype": "text/x-python",
   "name": "python",
   "nbconvert_exporter": "python",
   "pygments_lexer": "ipython3",
   "version": "3.10.6"
  }
 },
 "nbformat": 4,
 "nbformat_minor": 2
}
